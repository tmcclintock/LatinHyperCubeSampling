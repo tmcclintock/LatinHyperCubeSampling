{
 "cells": [
  {
   "cell_type": "code",
   "execution_count": 1,
   "metadata": {},
   "outputs": [],
   "source": [
    "from pyDOE2 import lhs\n",
    "import matplotlib.pyplot as plt\n",
    "import torch\n",
    "from torch import nn, optim\n",
    "import torch.nn.functional as F\n",
    "import pandas as pd\n",
    "import numpy as np"
   ]
  },
  {
   "cell_type": "code",
   "execution_count": 2,
   "metadata": {},
   "outputs": [],
   "source": [
    "class MNISTDataset(torch.utils.data.Dataset):\n",
    "    def __init__(self, images, labels):\n",
    "        super().__init__()\n",
    "        self.images = images\n",
    "        self.labels = labels\n",
    "        self._n = len(self.labels)\n",
    "\n",
    "    def __len__(self):\n",
    "        return self._n\n",
    "    \n",
    "    def __getitem__(self, index):\n",
    "        return self.images[index], self.labels[index]\n",
    "\n",
    "def get_dataset(kind=\"train\"):\n",
    "    df = pd.read_csv(f\"data/{kind}.csv\")\n",
    "    labels = df.label.values\n",
    "    df.drop(\"label\", axis=1, inplace=True)\n",
    "    images = df.values.reshape(-1, 1, 28, 28).astype(np.float32)\n",
    "    return MNISTDataset(images, labels)"
   ]
  },
  {
   "cell_type": "code",
   "execution_count": 3,
   "metadata": {},
   "outputs": [],
   "source": [
    "train_ds = get_dataset(\"train\")\n",
    "test_ds = get_dataset(\"test\")"
   ]
  },
  {
   "cell_type": "code",
   "execution_count": 4,
   "metadata": {},
   "outputs": [],
   "source": [
    "train_dl = torch.utils.data.DataLoader(train_ds, batch_size=1, shuffle=True, num_workers=0)\n",
    "train_dl = torch.utils.data.DataLoader(test_ds, batch_size=1, shuffle=True, num_workers=0)"
   ]
  },
  {
   "cell_type": "code",
   "execution_count": 5,
   "metadata": {},
   "outputs": [],
   "source": [
    "# Here: sample the LH for hyperparameters"
   ]
  },
  {
   "cell_type": "code",
   "execution_count": 6,
   "metadata": {},
   "outputs": [],
   "source": [
    "class MNISTClassifier(nn.Module):\n",
    "    def __init__(self):\n",
    "        super().__init__()\n",
    "        self.conv1 = nn.Conv2d(in_channels=1, out_channels=5, kernel_size=5, stride=3)  # 5x8x8\n",
    "        self.MP1 = nn.MaxPool2d(kernel_size=2, stride=2)  # 5x4x4\n",
    "        self.conv2 = nn.Conv2d(in_channels=5, out_channels=5, kernel_size=1, stride=1)  # 5x4x4\n",
    "        self.MP2 = nn.MaxPool2d(kernel_size=2, stride=2)  # 5x2x2\n",
    "        self.fc1 = nn.Linear(5 * 2 * 2, 32)\n",
    "        self.fc2 = nn.Linear(32, 10)\n",
    "\n",
    "    def forward(self, x):\n",
    "        x = self.conv1(x)\n",
    "        x = self.MP1(x)\n",
    "        x = self.conv2(x)\n",
    "        x = self.MP2(x)\n",
    "        x = torch.flatten(x, start_dim=1)\n",
    "        x = F.relu(self.fc1(x))\n",
    "        return self.fc2(x)\n",
    "\n",
    "# model = MNISTClassifier()\n",
    "loss_function = nn.CrossEntropyLoss()\n",
    "# optimizer = optim.SGD(model.parameters(), lr=0.00001, momentum=0.9)"
   ]
  },
  {
   "cell_type": "code",
   "execution_count": 7,
   "metadata": {},
   "outputs": [],
   "source": [
    "def perform_training(lr, momentum, num_epochs=10, n_print_per_epoch=0, verbose=True):\n",
    "    this_model = MNISTClassifier()\n",
    "    optimizer = optim.SGD(this_model.parameters(), lr=lr, momentum=momentum)\n",
    "    train_losses = []\n",
    "    n_batchs = len(train_dl)\n",
    "    n_per_print = n_batchs / n_print_per_epoch if n_print_per_epoch > 0 else 0\n",
    "    for epoch in range(num_epochs):\n",
    "        total_loss = 0\n",
    "        for i, (x, y) in enumerate(train_dl):\n",
    "\n",
    "            optimizer.zero_grad()\n",
    "\n",
    "            y_hat = this_model(x)\n",
    "            loss = loss_function(y_hat, y)\n",
    "            loss.backward()\n",
    "            optimizer.step()\n",
    "\n",
    "            total_loss += loss.item()\n",
    "            if verbose and ((n_per_print > 0 and i % n_per_print == 0) or i == n_batchs - 1):\n",
    "                print(f\"epoch:{1+len(train_losses)} - lr: {lr:.1e} - total_loss = {total_loss:.3e}\")\n",
    "        train_losses.append(total_loss)\n",
    "    return train_losses"
   ]
  },
  {
   "cell_type": "code",
   "execution_count": 8,
   "metadata": {},
   "outputs": [
    {
     "name": "stdout",
     "output_type": "stream",
     "text": [
      "epoch:1 - lr: 1.0e-04 - total_loss = 1.037e+04\n",
      "epoch:2 - lr: 1.0e-04 - total_loss = 6.369e+03\n",
      "epoch:3 - lr: 1.0e-04 - total_loss = 5.893e+03\n",
      "epoch:4 - lr: 1.0e-04 - total_loss = 5.556e+03\n",
      "epoch:5 - lr: 1.0e-04 - total_loss = 5.510e+03\n",
      "epoch:6 - lr: 1.0e-04 - total_loss = 5.440e+03\n",
      "epoch:7 - lr: 1.0e-04 - total_loss = 5.302e+03\n",
      "epoch:8 - lr: 1.0e-04 - total_loss = 5.402e+03\n",
      "epoch:9 - lr: 1.0e-04 - total_loss = 5.471e+03\n",
      "epoch:10 - lr: 1.0e-04 - total_loss = 5.567e+03\n",
      "epoch:11 - lr: 1.0e-04 - total_loss = 5.470e+03\n",
      "epoch:12 - lr: 1.0e-04 - total_loss = 5.230e+03\n",
      "epoch:13 - lr: 1.0e-04 - total_loss = 5.344e+03\n",
      "epoch:14 - lr: 1.0e-04 - total_loss = 5.347e+03\n",
      "epoch:15 - lr: 1.0e-04 - total_loss = 5.382e+03\n",
      "epoch:16 - lr: 1.0e-04 - total_loss = 5.320e+03\n",
      "epoch:17 - lr: 1.0e-04 - total_loss = 5.210e+03\n",
      "epoch:18 - lr: 1.0e-04 - total_loss = 5.301e+03\n",
      "epoch:19 - lr: 1.0e-04 - total_loss = 5.433e+03\n",
      "epoch:20 - lr: 1.0e-04 - total_loss = 5.290e+03\n",
      "epoch:1 - lr: 1.0e-05 - total_loss = 1.773e+04\n",
      "epoch:2 - lr: 1.0e-05 - total_loss = 1.035e+04\n",
      "epoch:3 - lr: 1.0e-05 - total_loss = 8.618e+03\n",
      "epoch:4 - lr: 1.0e-05 - total_loss = 7.620e+03\n",
      "epoch:5 - lr: 1.0e-05 - total_loss = 6.888e+03\n",
      "epoch:6 - lr: 1.0e-05 - total_loss = 6.318e+03\n",
      "epoch:7 - lr: 1.0e-05 - total_loss = 5.879e+03\n",
      "epoch:8 - lr: 1.0e-05 - total_loss = 5.490e+03\n",
      "epoch:9 - lr: 1.0e-05 - total_loss = 5.214e+03\n",
      "epoch:10 - lr: 1.0e-05 - total_loss = 5.021e+03\n",
      "epoch:11 - lr: 1.0e-05 - total_loss = 4.817e+03\n",
      "epoch:12 - lr: 1.0e-05 - total_loss = 4.715e+03\n",
      "epoch:13 - lr: 1.0e-05 - total_loss = 4.579e+03\n",
      "epoch:14 - lr: 1.0e-05 - total_loss = 4.478e+03\n",
      "epoch:15 - lr: 1.0e-05 - total_loss = 4.365e+03\n",
      "epoch:16 - lr: 1.0e-05 - total_loss = 4.306e+03\n",
      "epoch:17 - lr: 1.0e-05 - total_loss = 4.242e+03\n",
      "epoch:18 - lr: 1.0e-05 - total_loss = 4.170e+03\n",
      "epoch:19 - lr: 1.0e-05 - total_loss = 4.077e+03\n",
      "epoch:20 - lr: 1.0e-05 - total_loss = 4.020e+03\n",
      "epoch:1 - lr: 1.0e-06 - total_loss = 2.758e+04\n",
      "epoch:2 - lr: 1.0e-06 - total_loss = 2.246e+04\n",
      "epoch:3 - lr: 1.0e-06 - total_loss = 2.096e+04\n",
      "epoch:4 - lr: 1.0e-06 - total_loss = 1.979e+04\n",
      "epoch:5 - lr: 1.0e-06 - total_loss = 1.865e+04\n",
      "epoch:6 - lr: 1.0e-06 - total_loss = 1.747e+04\n",
      "epoch:7 - lr: 1.0e-06 - total_loss = 1.625e+04\n",
      "epoch:8 - lr: 1.0e-06 - total_loss = 1.508e+04\n",
      "epoch:9 - lr: 1.0e-06 - total_loss = 1.412e+04\n",
      "epoch:10 - lr: 1.0e-06 - total_loss = 1.335e+04\n",
      "epoch:11 - lr: 1.0e-06 - total_loss = 1.273e+04\n",
      "epoch:12 - lr: 1.0e-06 - total_loss = 1.218e+04\n",
      "epoch:13 - lr: 1.0e-06 - total_loss = 1.168e+04\n",
      "epoch:14 - lr: 1.0e-06 - total_loss = 1.122e+04\n",
      "epoch:15 - lr: 1.0e-06 - total_loss = 1.076e+04\n",
      "epoch:16 - lr: 1.0e-06 - total_loss = 1.031e+04\n",
      "epoch:17 - lr: 1.0e-06 - total_loss = 9.861e+03\n",
      "epoch:18 - lr: 1.0e-06 - total_loss = 9.392e+03\n",
      "epoch:19 - lr: 1.0e-06 - total_loss = 8.938e+03\n",
      "epoch:20 - lr: 1.0e-06 - total_loss = 8.521e+03\n"
     ]
    }
   ],
   "source": [
    "loglrs = [-4, -5, -6]\n",
    "loss_record = {}\n",
    "for loglr in loglrs:\n",
    "    lr = 10**loglr\n",
    "    mom = 0.9\n",
    "    loss_record[(loglr, mom)] = perform_training(lr, mom, num_epochs=20)"
   ]
  },
  {
   "cell_type": "code",
   "execution_count": 9,
   "metadata": {},
   "outputs": [
    {
     "data": {
      "text/plain": [
       "<matplotlib.legend.Legend at 0x176573d60>"
      ]
     },
     "execution_count": 9,
     "metadata": {},
     "output_type": "execute_result"
    },
    {
     "data": {
      "image/png": "[encoded data removed]",
      "text/plain": [
       "<Figure size 432x288 with 1 Axes>"
      ]
     },
     "metadata": {
      "needs_background": "light"
     },
     "output_type": "display_data"
    }
   ],
   "source": [
    "for (loglr, mom), losses in loss_record.items():\n",
    "    plt.loglog(np.arange(len(losses))+1, losses, label=loglr)\n",
    "plt.legend()"
   ]
  },
  {
   "cell_type": "code",
   "execution_count": null,
   "metadata": {},
   "outputs": [],
   "source": []
  }
 ],
 "metadata": {
  "kernelspec": {
   "display_name": "Python 3",
   "language": "python",
   "name": "python3"
  },
  "language_info": {
   "codemirror_mode": {
    "name": "ipython",
    "version": 3
   },
   "file_extension": ".py",
   "mimetype": "text/x-python",
   "name": "python",
   "nbconvert_exporter": "python",
   "pygments_lexer": "ipython3",
   "version": "3.8.5"
  }
 },
 "nbformat": 4,
 "nbformat_minor": 4
}
