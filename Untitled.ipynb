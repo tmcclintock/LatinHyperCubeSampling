{
 "cells": [
  {
   "cell_type": "code",
   "execution_count": 6,
   "metadata": {},
   "outputs": [],
   "source": [
    "from pyDOE2 import lhs\n",
    "import matplotlib.pyplot as plt"
   ]
  },
  {
   "cell_type": "code",
   "execution_count": 2,
   "metadata": {},
   "outputs": [
    {
     "name": "stdout",
     "output_type": "stream",
     "text": [
      "Help on function lhs in module pyDOE2.doe_lhs:\n",
      "\n",
      "lhs(n, samples=None, criterion=None, iterations=None, random_state=None, correlation_matrix=None)\n",
      "    Generate a latin-hypercube design\n",
      "    \n",
      "    Parameters\n",
      "    ----------\n",
      "    n : int\n",
      "        The number of factors to generate samples for\n",
      "    \n",
      "    Optional\n",
      "    --------\n",
      "    samples : int\n",
      "        The number of samples to generate for each factor (Default: n)\n",
      "    criterion : str\n",
      "        Allowable values are \"center\" or \"c\", \"maximin\" or \"m\",\n",
      "        \"centermaximin\" or \"cm\", and \"correlation\" or \"corr\". If no value\n",
      "        given, the design is simply randomized.\n",
      "    iterations : int\n",
      "        The number of iterations in the maximin and correlations algorithms\n",
      "        (Default: 5).\n",
      "    randomstate : np.random.RandomState, int\n",
      "         Random state (or seed-number) which controls the seed and random draws\n",
      "    correlation_matrix : ndarray\n",
      "         Enforce correlation between factors (only used in lhsmu)\n",
      "    \n",
      "    Returns\n",
      "    -------\n",
      "    H : 2d-array\n",
      "        An n-by-samples design matrix that has been normalized so factor values\n",
      "        are uniformly spaced between zero and one.\n",
      "    \n",
      "    Example\n",
      "    -------\n",
      "    A 3-factor design (defaults to 3 samples)::\n",
      "    \n",
      "        >>> lhs(3, random_state=42)\n",
      "        array([[ 0.12484671,  0.95539205,  0.24399798],\n",
      "               [ 0.53288616,  0.38533955,  0.86703834],\n",
      "               [ 0.68602787,  0.31690477,  0.38533151]])\n",
      "    \n",
      "    A 4-factor design with 6 samples::\n",
      "    \n",
      "        >>> lhs(4, samples=6, random_state=42)\n",
      "        array([[ 0.06242335,  0.19266575,  0.88202411,  0.89439364],\n",
      "               [ 0.19266977,  0.53538985,  0.53030416,  0.49498498],\n",
      "               [ 0.71737371,  0.75412607,  0.17634727,  0.71520486],\n",
      "               [ 0.63874044,  0.85658231,  0.33676408,  0.31102936],\n",
      "               [ 0.43351917,  0.45134543,  0.12199899,  0.53056742],\n",
      "               [ 0.93530882,  0.15845238,  0.7386575 ,  0.09977641]])\n",
      "    \n",
      "    A 2-factor design with 5 centered samples::\n",
      "    \n",
      "        >>> lhs(2, samples=5, criterion='center', random_state=42)\n",
      "        array([[ 0.1,  0.9],\n",
      "               [ 0.5,  0.5],\n",
      "               [ 0.7,  0.1],\n",
      "               [ 0.3,  0.7],\n",
      "               [ 0.9,  0.3]])\n",
      "    \n",
      "    A 3-factor design with 4 samples where the minimum distance between\n",
      "    all samples has been maximized::\n",
      "    \n",
      "        >>> lhs(3, samples=4, criterion='maximin', random_state=42)\n",
      "        array([[ 0.69754389,  0.2997106 ,  0.96250964],\n",
      "               [ 0.10585037,  0.09872038,  0.73157522],\n",
      "               [ 0.25351996,  0.65148999,  0.07337204],\n",
      "               [ 0.91276926,  0.97873992,  0.42783549]])\n",
      "    \n",
      "    A 4-factor design with 5 samples where the samples are as uncorrelated\n",
      "    as possible (within 10 iterations)::\n",
      "    \n",
      "        >>> lhs(4, samples=5, criterion='correlation', iterations=10, random_state=42)\n",
      "        array([[ 0.72088348,  0.05121366,  0.97609357,  0.92487081],\n",
      "               [ 0.49507404,  0.51265511,  0.00808672,  0.37915272],\n",
      "               [ 0.22217816,  0.2878673 ,  0.24034384,  0.42786629],\n",
      "               [ 0.91977309,  0.93895699,  0.64061224,  0.14213258],\n",
      "               [ 0.04719698,  0.70796822,  0.53910322,  0.78857071]])\n",
      "\n"
     ]
    }
   ],
   "source": [
    "help(lhs)"
   ]
  },
  {
   "cell_type": "code",
   "execution_count": 37,
   "metadata": {},
   "outputs": [],
   "source": [
    "x = lhs(2, samples=100, criterion=\"c\", iterations=1000)"
   ]
  },
  {
   "cell_type": "code",
   "execution_count": 38,
   "metadata": {},
   "outputs": [
    {
     "data": {
      "text/plain": [
       "<matplotlib.collections.PathCollection at 0x12579d310>"
      ]
     },
     "execution_count": 38,
     "metadata": {},
     "output_type": "execute_result"
    },
    {
     "data": {
      "image/png": "[encoded data removed]",
      "text/plain": [
       "<Figure size 432x288 with 1 Axes>"
      ]
     },
     "metadata": {
      "needs_background": "light"
     },
     "output_type": "display_data"
    }
   ],
   "source": [
    "plt.scatter(x[:, 0], x[:, 1])"
   ]
  },
  {
   "cell_type": "code",
   "execution_count": null,
   "metadata": {},
   "outputs": [],
   "source": [
    "def transform()"
   ]
  }
 ],
 "metadata": {
  "kernelspec": {
   "display_name": "Python 3",
   "language": "python",
   "name": "python3"
  },
  "language_info": {
   "codemirror_mode": {
    "name": "ipython",
    "version": 3
   },
   "file_extension": ".py",
   "mimetype": "text/x-python",
   "name": "python",
   "nbconvert_exporter": "python",
   "pygments_lexer": "ipython3",
   "version": "3.8.5"
  }
 },
 "nbformat": 4,
 "nbformat_minor": 4
}
